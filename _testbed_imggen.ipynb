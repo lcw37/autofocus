{
 "cells": [
  {
   "cell_type": "code",
   "execution_count": 2,
   "metadata": {},
   "outputs": [],
   "source": [
    "from skimage import io\n",
    "from toolbox import convolve, gaussian_kernel, noisy, center_crop_pixel, plot_images\n",
    "import numpy as np\n",
    "import torch"
   ]
  },
  {
   "cell_type": "code",
   "execution_count": 3,
   "metadata": {},
   "outputs": [],
   "source": [
    "img_path = '/Users/luwang/Desktop/projects/personal/psf-estimation/psf-estimation/data/PSF_Estimation/astigmatism/tilted/10/10degres_proche_2/MMStack_Pos0.ome.tif'\n",
    "img = io.imread(img_path, as_gray=True)"
   ]
  },
  {
   "cell_type": "code",
   "execution_count": 4,
   "metadata": {},
   "outputs": [],
   "source": [
    "img = img.astype(np.float64)\n",
    "img /= 65535.0"
   ]
  },
  {
   "cell_type": "code",
   "execution_count": 6,
   "metadata": {},
   "outputs": [],
   "source": [
    "def generate_syn_img_stack(img, n, zmin, zmax, zfocus, noise_sigma, input_noise, width_coeff):\n",
    "    z_coeff = 1.7 * width_coeff\n",
    "    im_size = img.shape[0]\n",
    "    kernel_size = im_size // 2 + 1\n",
    "    if kernel_size % 2 == 0: # if even kernel size, make odd\n",
    "        kernel_size += 1\n",
    "        \n",
    "    # generate random noise for the distances from focal point (simulates measurement error)\n",
    "    noise = np.random.normal(0, noise_sigma, n)\n",
    "    \n",
    "    # generate list of kernel z-positions\n",
    "    z_list = np.linspace(zmin-zfocus+1, zmax-zfocus, n).tolist() # TODO: i don't think the bounds are right\n",
    "    \n",
    "    kernels = []\n",
    "    for z_index, z in enumerate(z_list):\n",
    "        dist = np.abs(z * z_coeff) + noise[z_index]\n",
    "        gkernel = gaussian_kernel(kernel_size, dist, dist) * (im_size ** 2) # TODO: why (img_size ** 2)?\n",
    "        kernels.append(gkernel)\n",
    "    return kernels, z_list\n",
    "\n",
    "def convolve_kernels(img, kernels):\n",
    "    all_images= []\n",
    "    i = 0\n",
    "    # uni = np.random.uniform(input_noise // 2, input_noise * 2, len(kernels))\n",
    "    for kernel in kernels:\n",
    "        if i % 5 == 0:\n",
    "            print(i)\n",
    "        c = convolve(img, kernel, padding='reflect')\n",
    "        # c = noisy(c, 'gauss', uni[i])\n",
    "        c = c.clip(0.01,0.95)\n",
    "        i += 1\n",
    "\n",
    "        all_images.append(center_crop_pixel(c, img.shape[0]))\n",
    "\n",
    "    return np.asarray(all_images)"
   ]
  },
  {
   "cell_type": "code",
   "execution_count": 7,
   "metadata": {},
   "outputs": [],
   "source": [
    "# kernels, z_list = generate_syn_img_stack(img, 51, -30, 30, 0, 0, 0, 1)"
   ]
  },
  {
   "cell_type": "code",
   "execution_count": 8,
   "metadata": {},
   "outputs": [],
   "source": [
    "# all_images = convolve_kernels(img, kernels)"
   ]
  },
  {
   "cell_type": "code",
   "execution_count": 9,
   "metadata": {},
   "outputs": [],
   "source": [
    "# io.imshow(img)"
   ]
  },
  {
   "cell_type": "code",
   "execution_count": 10,
   "metadata": {},
   "outputs": [],
   "source": [
    "# io.imshow(all_images[0])"
   ]
  },
  {
   "cell_type": "code",
   "execution_count": 11,
   "metadata": {},
   "outputs": [],
   "source": [
    "# io.imshow(all_images[len(all_images)//2 + 1])"
   ]
  },
  {
   "cell_type": "code",
   "execution_count": 12,
   "metadata": {},
   "outputs": [],
   "source": [
    "# io.imshow(all_images[-1])"
   ]
  },
  {
   "cell_type": "code",
   "execution_count": 13,
   "metadata": {},
   "outputs": [],
   "source": [
    "# np.save('syn_image_stack.npy', all_images)\n",
    "# np.save('z_list.npy', np.array(z_list))"
   ]
  },
  {
   "cell_type": "code",
   "execution_count": null,
   "metadata": {},
   "outputs": [],
   "source": []
  },
  {
   "cell_type": "code",
   "execution_count": null,
   "metadata": {},
   "outputs": [],
   "source": []
  },
  {
   "cell_type": "code",
   "execution_count": null,
   "metadata": {},
   "outputs": [],
   "source": []
  },
  {
   "cell_type": "code",
   "execution_count": 14,
   "metadata": {},
   "outputs": [],
   "source": [
    "def blur_image_stack(image, num_z, min_z_calib = None, max_z_calib = None, z_focus=0, noise_sigma=0.0, input_noise = 0.0, width_coeff = 1.0):\n",
    "    im_size = image.shape[0]\n",
    "    #kernels = np.zeros((im_size, num_z, num_z))\n",
    "    print('Generating a blurred stack from {} to {} with {} images and centered at z={}.'.format(min_z_calib, max_z_calib, num_z, z_focus))\n",
    "    \n",
    "    kernels = []\n",
    "    z_coeff = 1.7*width_coeff\n",
    "    noise = np.random.normal(0, noise_sigma, num_z)\n",
    "    kernel_size = im_size // 2 + 1\n",
    "    if kernel_size % 2 == 0: # if even kernel size, make odd\n",
    "        kernel_size += 1\n",
    "    if num_z == 1: # if only 1 sample:\n",
    "        dist = abs(float(max_z_calib-z_focus) * z_coeff)\n",
    "        dist += noise[0] # add noise to the distance (this simulates additional gaussian blur)\n",
    "        kernels.append(gaussian_kernel(kernel_size, fwhmx=dist, fwhmy=dist) * (im_size ** 2))\n",
    "    else:\n",
    "        z_list = np.linspace (min_z_calib-z_focus+1, max_z_calib-z_focus, num_z).tolist()\n",
    "        for z_idx, z in enumerate(z_list):\n",
    "            if not isinstance(z, float):\n",
    "                z = z[0]\n",
    "            dist = np.abs(z*z_coeff)\n",
    "            dist += noise[z_idx]\n",
    "            kernels.append(gaussian_kernel(kernel_size, fwhmx=dist, fwhmy=dist) * (im_size ** 2))\n",
    "    # plot_images(kernels)\n",
    "\n",
    "    all_images = []\n",
    "    i = 0\n",
    "    uni = np.random.uniform(input_noise // 2, input_noise * 2, len(kernels))\n",
    "    for kernel in kernels:\n",
    "        c = convolve(image, kernel, padding='reflect')\n",
    "        c = noisy(c, 'gauss', uni[i])\n",
    "        c = c.clip(0.01,0.95)\n",
    "        i +=1\n",
    "\n",
    "        all_images.append(center_crop_pixel(c,image.shape[0]))\n",
    "    #plot_images(all_images)\n",
    "    #plt.show()\n",
    "    return np.asarray(all_images), np.linspace(min_z_calib, max_z_calib, num_z)\n"
   ]
  },
  {
   "cell_type": "code",
   "execution_count": 15,
   "metadata": {},
   "outputs": [],
   "source": [
    "# x = np.array(blur_image_stack(img, 11, -5, 5, 0, 0, 0, 1))"
   ]
  },
  {
   "cell_type": "code",
   "execution_count": null,
   "metadata": {},
   "outputs": [],
   "source": []
  }
 ],
 "metadata": {
  "kernelspec": {
   "display_name": "semiblind-deconvolution-env",
   "language": "python",
   "name": "python3"
  },
  "language_info": {
   "codemirror_mode": {
    "name": "ipython",
    "version": 3
   },
   "file_extension": ".py",
   "mimetype": "text/x-python",
   "name": "python",
   "nbconvert_exporter": "python",
   "pygments_lexer": "ipython3",
   "version": "3.11.8"
  }
 },
 "nbformat": 4,
 "nbformat_minor": 2
}
